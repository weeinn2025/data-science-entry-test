{
 "cells": [
  {
   "cell_type": "code",
   "execution_count": 1,
   "id": "6f83015d-0903-4149-af9f-2c4455411d83",
   "metadata": {},
   "outputs": [
    {
     "name": "stdout",
     "output_type": "stream",
     "text": [
      "dlroW olleH\n",
      "nohtyP\n"
     ]
    }
   ],
   "source": [
    "def string_reverse(s):\n",
    "    \"\"\"\n",
    "    Task 1\n",
    "    - Create a function that reverses a given string (s).\n",
    "    - s must be a string.\n",
    "    - Return the reversed string.\n",
    "    \"\"\"\n",
    "    if not isinstance(s, str):\n",
    "        return \"Error: Input must be a string\"\n",
    "\n",
    "    return s[::-1]  # Reverse the string using slicing\n",
    "\n",
    "# Task 2: Invoking the function with given scenarios\n",
    "print(string_reverse(\"Hello World\"))  \n",
    "# Expected output: \"dlroW olleH\"\n",
    "\n",
    "print(string_reverse(\"Python\"))  \n",
    "# Expected output: \"nohtyP\"\n"
   ]
  },
  {
   "cell_type": "code",
   "execution_count": null,
   "id": "f8ba6207-4779-40a3-8e20-5a5eaf9d17d3",
   "metadata": {},
   "outputs": [],
   "source": []
  }
 ],
 "metadata": {
  "kernelspec": {
   "display_name": "Python 3 (ipykernel)",
   "language": "python",
   "name": "python3"
  },
  "language_info": {
   "codemirror_mode": {
    "name": "ipython",
    "version": 3
   },
   "file_extension": ".py",
   "mimetype": "text/x-python",
   "name": "python",
   "nbconvert_exporter": "python",
   "pygments_lexer": "ipython3",
   "version": "3.12.7"
  }
 },
 "nbformat": 4,
 "nbformat_minor": 5
}
