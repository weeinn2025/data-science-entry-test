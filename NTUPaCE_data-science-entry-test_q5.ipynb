{
 "cells": [
  {
   "cell_type": "code",
   "execution_count": 1,
   "id": "658093d1-9e5d-462a-824e-b6ae2b306ff1",
   "metadata": {},
   "outputs": [
    {
     "name": "stdout",
     "output_type": "stream",
     "text": [
      "True\n",
      "False\n"
     ]
    }
   ],
   "source": [
    "def check_divisibility(num, divisor):\n",
    "    \"\"\"\n",
    "    Task 1\n",
    "    - Create a function to check if the number (num) is divisible by another number (divisor).\n",
    "    - Both num and divisor must be numeric.\n",
    "    - Return True if num is divisible by divisor, False otherwise.\n",
    "    \"\"\"\n",
    "    if not (isinstance(num, (int, float)) and isinstance(divisor, (int, float))):\n",
    "        return \"Error: Both inputs must be numeric\"\n",
    "\n",
    "    return num % divisor == 0  # Check divisibility\n",
    "\n",
    "# Task 2: Invoking the function with given scenarios\n",
    "print(check_divisibility(10, 2))  \n",
    "# Expected output: True\n",
    "\n",
    "print(check_divisibility(7, 3))  \n",
    "# Expected output: False\n"
   ]
  },
  {
   "cell_type": "code",
   "execution_count": null,
   "id": "46913ebc-3ad4-475a-9c28-7ac6c2c9cb8c",
   "metadata": {},
   "outputs": [],
   "source": []
  }
 ],
 "metadata": {
  "kernelspec": {
   "display_name": "Python 3 (ipykernel)",
   "language": "python",
   "name": "python3"
  },
  "language_info": {
   "codemirror_mode": {
    "name": "ipython",
    "version": 3
   },
   "file_extension": ".py",
   "mimetype": "text/x-python",
   "name": "python",
   "nbconvert_exporter": "python",
   "pygments_lexer": "ipython3",
   "version": "3.12.7"
  }
 },
 "nbformat": 4,
 "nbformat_minor": 5
}
