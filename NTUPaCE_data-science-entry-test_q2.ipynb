{
 "cells": [
  {
   "cell_type": "code",
   "execution_count": 1,
   "id": "0bad2342-a96a-4803-9217-bf89929bc8dc",
   "metadata": {},
   "outputs": [
    {
     "name": "stdout",
     "output_type": "stream",
     "text": [
      "[1, 5, 3, 4, 5, 5]\n",
      "['orange', 'banana', 'orange']\n"
     ]
    }
   ],
   "source": [
    "def find_and_replace(lst, find_val, replace_val):\n",
    "    \"\"\"\n",
    "    Task 1\n",
    "    - Create a function that searches for all occurrences of a value (find_val) in a given list (lst) and replaces them with another value (replace_val).\n",
    "    - lst must be a list.\n",
    "    - Return the modified list.\n",
    "    \"\"\"\n",
    "    if not isinstance(lst, list):\n",
    "        return \"Error: Input must be a list\"\n",
    "\n",
    "    # Replace all occurrences of find_val with replace_val\n",
    "    return [replace_val if item == find_val else item for item in lst]\n",
    "\n",
    "# Task 2: Invoking the function with given scenarios\n",
    "print(find_and_replace([1, 2, 3, 4, 2, 2], 2, 5))  \n",
    "# Expected output: [1, 5, 3, 4, 5, 5]\n",
    "\n",
    "print(find_and_replace([\"apple\", \"banana\", \"apple\"], \"apple\", \"orange\"))  \n",
    "# Expected output: [\"orange\", \"banana\", \"orange\"]\n"
   ]
  },
  {
   "cell_type": "code",
   "execution_count": null,
   "id": "77d88cb5-6878-4142-8640-47792fd8c0ed",
   "metadata": {},
   "outputs": [],
   "source": []
  }
 ],
 "metadata": {
  "kernelspec": {
   "display_name": "Python 3 (ipykernel)",
   "language": "python",
   "name": "python3"
  },
  "language_info": {
   "codemirror_mode": {
    "name": "ipython",
    "version": 3
   },
   "file_extension": ".py",
   "mimetype": "text/x-python",
   "name": "python",
   "nbconvert_exporter": "python",
   "pygments_lexer": "ipython3",
   "version": "3.12.7"
  }
 },
 "nbformat": 4,
 "nbformat_minor": 5
}
