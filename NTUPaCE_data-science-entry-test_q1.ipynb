{
 "cells": [
  {
   "cell_type": "code",
   "execution_count": 1,
   "id": "033d5542-abde-449e-a588-2b250a26aff8",
   "metadata": {},
   "outputs": [
    {
     "name": "stdout",
     "output_type": "stream",
     "text": [
      "-1\n",
      "Swapped values: 17 9\n"
     ]
    }
   ],
   "source": [
    "def swap(x, y):\n",
    "    \"\"\"\n",
    "    Task 1\n",
    "    - Create a function that would swap the value of x and y using only x and y as variables.\n",
    "    - x and y must be numeric.\n",
    "    - Return -1 if x and y is not numeric, and\n",
    "    - print the swapped values if both x and y are numeric.\n",
    "    \"\"\"\n",
    "    if not (isinstance(x, (int, float)) and isinstance(y, (int, float))):\n",
    "        return -1  # Return -1 if x and y are not numeric\n",
    "\n",
    "    # Swapping values\n",
    "    x, y = y, x\n",
    "    print(\"Swapped values:\", x, y)\n",
    "\n",
    "# Task 2: Invoking the function with given scenarios\n",
    "print(swap(\"Apple\", 10))  # Expected output: -1\n",
    "swap(9, 17)  # Expected output: Swapped values: 17 9\n"
   ]
  },
  {
   "cell_type": "code",
   "execution_count": null,
   "id": "4b4a01cd-3e8d-42ba-a257-98dbb524e4b5",
   "metadata": {},
   "outputs": [],
   "source": []
  }
 ],
 "metadata": {
  "kernelspec": {
   "display_name": "Python 3 (ipykernel)",
   "language": "python",
   "name": "python3"
  },
  "language_info": {
   "codemirror_mode": {
    "name": "ipython",
    "version": 3
   },
   "file_extension": ".py",
   "mimetype": "text/x-python",
   "name": "python",
   "nbconvert_exporter": "python",
   "pygments_lexer": "ipython3",
   "version": "3.12.7"
  }
 },
 "nbformat": 4,
 "nbformat_minor": 5
}
