{
 "cells": [
  {
   "cell_type": "code",
   "execution_count": 1,
   "id": "9d2c9be8-5bf8-41e5-9830-cc08cec0eb2a",
   "metadata": {},
   "outputs": [
    {
     "name": "stdout",
     "output_type": "stream",
     "text": [
      "2020 Toyota Corolla\n"
     ]
    }
   ],
   "source": [
    "class Car:\n",
    "    \"\"\"\n",
    "    Task 1\n",
    "    - Define a class named Car with attributes: make, model, year.\n",
    "    - Initialize these attributes in the __init__ method.\n",
    "    - Add a method named describe_car() that prints information about the car as \"Year Make Model\".\n",
    "    \"\"\"\n",
    "    def __init__(self, make, model, year):\n",
    "        self.make = make\n",
    "        self.model = model\n",
    "        self.year = year\n",
    "\n",
    "    def describe_car(self):\n",
    "        print(f\"{self.year} {self.make} {self.model}\")\n",
    "\n",
    "# Task 2: Creating an instance and calling describe_car\n",
    "car1 = Car(\"Toyota\", \"Corolla\", 2020)\n",
    "car1.describe_car()\n",
    "# Expected output: \"2020 Toyota Corolla\"\n"
   ]
  },
  {
   "cell_type": "code",
   "execution_count": null,
   "id": "e61a2de3-587b-4064-b551-a6b53adb4777",
   "metadata": {},
   "outputs": [],
   "source": []
  }
 ],
 "metadata": {
  "kernelspec": {
   "display_name": "Python 3 (ipykernel)",
   "language": "python",
   "name": "python3"
  },
  "language_info": {
   "codemirror_mode": {
    "name": "ipython",
    "version": 3
   },
   "file_extension": ".py",
   "mimetype": "text/x-python",
   "name": "python",
   "nbconvert_exporter": "python",
   "pygments_lexer": "ipython3",
   "version": "3.12.7"
  }
 },
 "nbformat": 4,
 "nbformat_minor": 5
}
