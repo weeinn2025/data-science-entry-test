{
 "cells": [
  {
   "cell_type": "code",
   "execution_count": 1,
   "id": "acc1ef8a-bb2c-4b1c-8c6b-880310e55511",
   "metadata": {},
   "outputs": [
    {
     "name": "stdout",
     "output_type": "stream",
     "text": [
      "{'name': 'Alice'}\n",
      "Original value for 'age': 25\n",
      "{'age': 26}\n"
     ]
    }
   ],
   "source": [
    "def update_dictionary(dct, key, value):\n",
    "    \"\"\"\n",
    "    Task 1\n",
    "    - Create a function that updates a dictionary (dct) with a new key-value pair.\n",
    "    - If the key already exists in dct, print the original value, then update its value.\n",
    "    - Return the updated dictionary.\n",
    "    \"\"\"\n",
    "    if not isinstance(dct, dict):\n",
    "        return \"Error: Input must be a dictionary\"\n",
    "\n",
    "    if key in dct:\n",
    "        print(f\"Original value for '{key}': {dct[key]}\")\n",
    "    \n",
    "    dct[key] = value  # Update or add the key-value pair\n",
    "    return dct\n",
    "\n",
    "# Task 2: Invoking the function with given scenarios\n",
    "print(update_dictionary({}, \"name\", \"Alice\"))  \n",
    "# Expected output: {'name': 'Alice'}\n",
    "\n",
    "print(update_dictionary({\"age\": 25}, \"age\", 26))  \n",
    "# Expected output: Prints \"Original value for 'age': 25\" and returns {'age': 26}\n"
   ]
  },
  {
   "cell_type": "code",
   "execution_count": null,
   "id": "9c0a3289-8225-405c-9512-3bacdcc6029a",
   "metadata": {},
   "outputs": [],
   "source": []
  }
 ],
 "metadata": {
  "kernelspec": {
   "display_name": "Python 3 (ipykernel)",
   "language": "python",
   "name": "python3"
  },
  "language_info": {
   "codemirror_mode": {
    "name": "ipython",
    "version": 3
   },
   "file_extension": ".py",
   "mimetype": "text/x-python",
   "name": "python",
   "nbconvert_exporter": "python",
   "pygments_lexer": "ipython3",
   "version": "3.12.7"
  }
 },
 "nbformat": 4,
 "nbformat_minor": 5
}
