{
 "cells": [
  {
   "cell_type": "code",
   "execution_count": 1,
   "id": "06eb9928-7453-4924-904f-69be94b0afa8",
   "metadata": {},
   "outputs": [
    {
     "name": "stdout",
     "output_type": "stream",
     "text": [
      "-1\n",
      "No negatives\n"
     ]
    }
   ],
   "source": [
    "def find_first_negative(lst):\n",
    "    \"\"\"\n",
    "    Task 1\n",
    "    - Create a function that finds the first negative number in a list (lst).\n",
    "    - Return the first negative number if found, otherwise return \"No negatives\".\n",
    "    - Use a while loop to implement this.\n",
    "    \"\"\"\n",
    "    if not isinstance(lst, list):\n",
    "        return \"Error: Input must be a list\"\n",
    "\n",
    "    i = 0  # Initialize index\n",
    "    while i < len(lst):\n",
    "        if lst[i] < 0:  # Check if the current element is negative\n",
    "            return lst[i]  # Return the first negative number\n",
    "        i += 1  # Increment index\n",
    "\n",
    "    return \"No negatives\"  # Return if no negative number is found\n",
    "\n",
    "# Task 2: Invoking the function with given scenarios\n",
    "print(find_first_negative([3, 5, -1, 7, -2, 8]))  \n",
    "# Expected output: -1\n",
    "\n",
    "print(find_first_negative([2, 10, 7, 0]))  \n",
    "# Expected output: \"No negatives\"\n"
   ]
  },
  {
   "cell_type": "code",
   "execution_count": null,
   "id": "f5b4cc30-f1dc-4f73-ab31-547ffbd82faa",
   "metadata": {},
   "outputs": [],
   "source": []
  }
 ],
 "metadata": {
  "kernelspec": {
   "display_name": "Python 3 (ipykernel)",
   "language": "python",
   "name": "python3"
  },
  "language_info": {
   "codemirror_mode": {
    "name": "ipython",
    "version": 3
   },
   "file_extension": ".py",
   "mimetype": "text/x-python",
   "name": "python",
   "nbconvert_exporter": "python",
   "pygments_lexer": "ipython3",
   "version": "3.12.7"
  }
 },
 "nbformat": 4,
 "nbformat_minor": 5
}
